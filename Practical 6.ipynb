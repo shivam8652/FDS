{
 "cells": [
  {
   "cell_type": "code",
   "execution_count": 2,
   "id": "cf20a198",
   "metadata": {},
   "outputs": [],
   "source": [
    "# for inline plot in jupyter\n",
    "%matplotlib inline\n",
    "\n",
    "import matplotlib.pyplot as plt\n",
    "\n",
    "# for latex equations\n",
    "from IPython.display import Math,Latex\n",
    "\n",
    "#for displaying images\n",
    "from IPython.core.display import Image\n",
    "\n",
    "import numpy as np\n",
    "import pandas as pd"
   ]
  },
  {
   "cell_type": "code",
   "execution_count": 3,
   "id": "872ad4a8",
   "metadata": {},
   "outputs": [],
   "source": [
    "import seaborn as sns\n",
    "sns.set(color_codes=True)\n",
    "sns.set(rc={'figure.figsize':(5,5)})"
   ]
  },
  {
   "cell_type": "markdown",
   "id": "0fd201a9",
   "metadata": {},
   "source": [
    "#  Uniform Distribution"
   ]
  },
  {
   "cell_type": "code",
   "execution_count": 16,
   "id": "e8c9e1e7",
   "metadata": {},
   "outputs": [
    {
     "data": {
      "text/plain": [
       "<matplotlib.collections.LineCollection at 0x23c96da58b0>"
      ]
     },
     "execution_count": 16,
     "metadata": {},
     "output_type": "execute_result"
    },
    {
     "data": {
      "image/png": "[encoded data removed]",
      "text/plain": [
       "<Figure size 360x360 with 1 Axes>"
      ]
     },
     "metadata": {},
     "output_type": "display_data"
    }
   ],
   "source": [
    "from scipy.stats import randint\n",
    "import matplotlib.pyplot as plt\n",
    "fig, ax = plt.subplots(1,1)\n",
    "\n",
    "# calculate a few fist moments:\n",
    "low,high = 7,31\n",
    "mean, var, skew, kurt = randint.stats(low, high, moments='mvsk')\n",
    "\n",
    "\n",
    "#Display the probability mass function('pmf')\n",
    "\n",
    "x = np.arange(randint.ppf(0.01,low,high),randint.ppf(0.99,low,high))\n",
    "ax.plot(x,randint.pmf(x,low,high),'bo',ms=8,label='randint pmf')\n",
    "ax.vlines(x,0,randint.pmf(x,low,high),colors='b',lw=5,alpha=0.5)"
   ]
  },
  {
   "cell_type": "code",
   "execution_count": 17,
   "id": "d4798dbf",
   "metadata": {},
   "outputs": [
    {
     "data": {
      "text/plain": [
       "array([ 7.,  8.,  9., 10., 11., 12., 13., 14., 15., 16., 17., 18., 19.,\n",
       "       20., 21., 22., 23., 24., 25., 26., 27., 28., 29.])"
      ]
     },
     "execution_count": 17,
     "metadata": {},
     "output_type": "execute_result"
    }
   ],
   "source": [
    "x\n"
   ]
  },
  {
   "cell_type": "code",
   "execution_count": 18,
   "id": "2402f357",
   "metadata": {},
   "outputs": [
    {
     "data": {
      "text/plain": [
       "array([0.04166667, 0.08333333, 0.125     , 0.16666667, 0.20833333,\n",
       "       0.25      , 0.29166667, 0.33333333, 0.375     , 0.41666667,\n",
       "       0.45833333, 0.5       , 0.54166667, 0.58333333, 0.625     ,\n",
       "       0.66666667, 0.70833333, 0.75      , 0.79166667, 0.83333333,\n",
       "       0.875     , 0.91666667, 0.95833333])"
      ]
     },
     "execution_count": 18,
     "metadata": {},
     "output_type": "execute_result"
    }
   ],
   "source": [
    "prob = randint.cdf(x,low,high)\n",
    "prob"
   ]
  },
  {
   "cell_type": "markdown",
   "id": "25d22483",
   "metadata": {},
   "source": [
    "# Bernoulli Distribution"
   ]
  },
  {
   "cell_type": "code",
   "execution_count": 29,
   "id": "9ae70f5a",
   "metadata": {},
   "outputs": [],
   "source": [
    "from scipy.stats import bernoulli\n",
    "data_bern = bernoulli.rvs(size=1000,p=0.6)"
   ]
  },
  {
   "cell_type": "code",
   "execution_count": 30,
   "id": "6b7a2a76",
   "metadata": {},
   "outputs": [
    {
     "data": {
      "text/plain": [
       "[Text(0.5, 0, 'Bernoulli Distribution'), Text(0, 0.5, 'Frequency')]"
      ]
     },
     "execution_count": 30,
     "metadata": {},
     "output_type": "execute_result"
    },
    {
     "data": {
      "image/png": "[encoded data removed]",
      "text/plain": [
       "<Figure size 360x360 with 1 Axes>"
      ]
     },
     "metadata": {},
     "output_type": "display_data"
    }
   ],
   "source": [
    "ax = sns.distplot(data_bern,\n",
    "                kde=False,\n",
    "                color=\"skyblue\",\n",
    "                hist_kws={\"linewidth\":15,\"alpha\":1})\n",
    "ax.set(xlabel='Bernoulli Distribution',ylabel='Frequency')"
   ]
  },
  {
   "cell_type": "markdown",
   "id": "b23ff41c",
   "metadata": {},
   "source": [
    "# Binomial Distribution "
   ]
  },
  {
   "cell_type": "code",
   "execution_count": 24,
   "id": "98f87152",
   "metadata": {},
   "outputs": [],
   "source": [
    "from scipy.stats import binom\n",
    "data_binom = binom.rvs(n=10,p=0.8,size=10000)\n"
   ]
  },
  {
   "cell_type": "code",
   "execution_count": 26,
   "id": "7c2fda82",
   "metadata": {},
   "outputs": [
    {
     "data": {
      "text/plain": [
       "[Text(0.5, 0, 'Binomial Distribution'), Text(0, 0.5, 'Frequency')]"
      ]
     },
     "execution_count": 26,
     "metadata": {},
     "output_type": "execute_result"
    },
    {
     "data": {
      "image/png": "[encoded data removed]",
      "text/plain": [
       "<Figure size 360x360 with 1 Axes>"
      ]
     },
     "metadata": {},
     "output_type": "display_data"
    }
   ],
   "source": [
    "ax = sns.distplot(data_binom,\n",
    "                 kde=False,\n",
    "                 color='skyblue',\n",
    "                 hist_kws={\"linewidth\":15,\"alpha\":1})\n",
    "ax.set(xlabel='Binomial Distribution',ylabel='Frequency')"
   ]
  },
  {
   "cell_type": "markdown",
   "id": "76e5023a",
   "metadata": {},
   "source": [
    "# Poisson Distribution"
   ]
  },
  {
   "cell_type": "code",
   "execution_count": 35,
   "id": "6b705c00",
   "metadata": {},
   "outputs": [],
   "source": [
    "from scipy.stats import poisson\n",
    "data_poisson = poisson.rvs(size=1000,mu=3)"
   ]
  },
  {
   "cell_type": "code",
   "execution_count": 36,
   "id": "fe5bf791",
   "metadata": {},
   "outputs": [
    {
     "data": {
      "text/plain": [
       "[Text(0.5, 0, 'Poisson Distribution'), Text(0, 0.5, 'Frequency')]"
      ]
     },
     "execution_count": 36,
     "metadata": {},
     "output_type": "execute_result"
    },
    {
     "data": {
      "image/png": "[encoded data removed]",
      "text/plain": [
       "<Figure size 360x360 with 1 Axes>"
      ]
     },
     "metadata": {},
     "output_type": "display_data"
    }
   ],
   "source": [
    "ax = sns.distplot(data_poisson,\n",
    "                 bins=30,\n",
    "                 kde=False,\n",
    "                 color='skyblue',\n",
    "                 hist_kws={\"linewidth\":15,\"alpha\":1})\n",
    "ax.set(xlabel='Poisson Distribution',ylabel='Frequency')"
   ]
  },
  {
   "cell_type": "code",
   "execution_count": null,
   "id": "b183bfc6",
   "metadata": {},
   "outputs": [],
   "source": []
  }
 ],
 "metadata": {
  "kernelspec": {
   "display_name": "Python 3",
   "language": "python",
   "name": "python3"
  },
  "language_info": {
   "codemirror_mode": {
    "name": "ipython",
    "version": 3
   },
   "file_extension": ".py",
   "mimetype": "text/x-python",
   "name": "python",
   "nbconvert_exporter": "python",
   "pygments_lexer": "ipython3",
   "version": "3.8.8"
  }
 },
 "nbformat": 4,
 "nbformat_minor": 5
}
